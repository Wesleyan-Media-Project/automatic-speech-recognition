{
 "cells": [
  {
   "cell_type": "markdown",
   "id": "14974c02",
   "metadata": {},
   "source": [
    "## Prepare ad media data info"
   ]
  },
  {
   "cell_type": "markdown",
   "id": "9d554e17",
   "metadata": {},
   "source": [
    "Google ad media data are saved on wesmedia1"
   ]
  },
  {
   "cell_type": "code",
   "execution_count": 1,
   "id": "b81acb7a",
   "metadata": {},
   "outputs": [],
   "source": [
    "import pandas as pd\n",
    "import os\n",
    "import hashlib"
   ]
  },
  {
   "cell_type": "markdown",
   "id": "5bc75bfc",
   "metadata": {},
   "source": [
    "### 1. Get video info"
   ]
  },
  {
   "cell_type": "code",
   "execution_count": 2,
   "id": "cde1ac73",
   "metadata": {},
   "outputs": [],
   "source": [
    "video_path = '/data/1/wesmediafowler/projects/AdMedia/Google/video'"
   ]
  },
  {
   "cell_type": "code",
   "execution_count": 3,
   "id": "be9740fb",
   "metadata": {},
   "outputs": [],
   "source": [
    "filepath = []\n",
    "filename = []\n",
    "\n",
    "for root, dirs, files in os.walk(video_path):\n",
    "    for file in files:\n",
    "        if file.endswith(\".mp4\"):\n",
    "            filename.append(file)\n",
    "            filepath.append(os.path.join(root,file))"
   ]
  },
  {
   "cell_type": "code",
   "execution_count": 5,
   "id": "174e6213",
   "metadata": {},
   "outputs": [],
   "source": [
    "vid = pd.DataFrame(columns=['filename', 'filepath'])"
   ]
  },
  {
   "cell_type": "code",
   "execution_count": 6,
   "id": "6eac168d",
   "metadata": {},
   "outputs": [],
   "source": [
    "vid['filename'] = filename\n",
    "vid['filepath'] = filepath"
   ]
  },
  {
   "cell_type": "markdown",
   "id": "19f64664",
   "metadata": {},
   "source": [
    "#### Get video checksum"
   ]
  },
  {
   "cell_type": "code",
   "execution_count": 7,
   "id": "842df903",
   "metadata": {},
   "outputs": [],
   "source": [
    "def hash_bytestr_iter(bytesiter, hasher, ashexstr=False):\n",
    "    for block in bytesiter:\n",
    "        hasher.update(block)\n",
    "    return hasher.hexdigest() if ashexstr else hasher.hexdigest()\n",
    "\n",
    "def file_as_blockiter(afile, blocksize=65536):\n",
    "    with afile:\n",
    "        block = afile.read(blocksize)\n",
    "        while len(block) > 0:\n",
    "            yield block\n",
    "            block = afile.read(blocksize)"
   ]
  },
  {
   "cell_type": "code",
   "execution_count": 9,
   "id": "ebe2f57a",
   "metadata": {},
   "outputs": [],
   "source": [
    "sha = [(fname, hash_bytestr_iter(file_as_blockiter(open(fname, 'rb')), hashlib.sha256()))\n",
    "    for fname in filepath]"
   ]
  },
  {
   "cell_type": "code",
   "execution_count": 10,
   "id": "430d7162",
   "metadata": {},
   "outputs": [],
   "source": [
    "checksum = pd.DataFrame(sha, columns=['filepath', 'checksum_sha256'])"
   ]
  },
  {
   "cell_type": "code",
   "execution_count": 12,
   "id": "9dfb1249",
   "metadata": {},
   "outputs": [],
   "source": [
    "video = vid.merge(checksum, on='filepath', how='left', indicator=True)"
   ]
  },
  {
   "cell_type": "code",
   "execution_count": 13,
   "id": "95ddc947",
   "metadata": {},
   "outputs": [
    {
     "data": {
      "text/plain": [
       "both          25932\n",
       "left_only         0\n",
       "right_only        0\n",
       "Name: _merge, dtype: int64"
      ]
     },
     "execution_count": 13,
     "metadata": {},
     "output_type": "execute_result"
    }
   ],
   "source": [
    "video._merge.value_counts()"
   ]
  },
  {
   "cell_type": "code",
   "execution_count": 15,
   "id": "4a9ed635",
   "metadata": {},
   "outputs": [],
   "source": [
    "del video['_merge']"
   ]
  },
  {
   "cell_type": "code",
   "execution_count": 16,
   "id": "598d80ce",
   "metadata": {},
   "outputs": [
    {
     "data": {
      "text/html": [
       "<div>\n",
       "<style scoped>\n",
       "    .dataframe tbody tr th:only-of-type {\n",
       "        vertical-align: middle;\n",
       "    }\n",
       "\n",
       "    .dataframe tbody tr th {\n",
       "        vertical-align: top;\n",
       "    }\n",
       "\n",
       "    .dataframe thead th {\n",
       "        text-align: right;\n",
       "    }\n",
       "</style>\n",
       "<table border=\"1\" class=\"dataframe\">\n",
       "  <thead>\n",
       "    <tr style=\"text-align: right;\">\n",
       "      <th></th>\n",
       "      <th>filename</th>\n",
       "      <th>filepath</th>\n",
       "      <th>checksum_sha256</th>\n",
       "    </tr>\n",
       "  </thead>\n",
       "  <tbody>\n",
       "    <tr>\n",
       "      <th>0</th>\n",
       "      <td>nIAa2wx0y2Q.mp4</td>\n",
       "      <td>/data/1/wesmediafowler/projects/AdMedia/Google...</td>\n",
       "      <td>3eb256475d44d124d8d671b15460066e767a87efaea137...</td>\n",
       "    </tr>\n",
       "    <tr>\n",
       "      <th>1</th>\n",
       "      <td>ZL_4kcX7kIM.mp4</td>\n",
       "      <td>/data/1/wesmediafowler/projects/AdMedia/Google...</td>\n",
       "      <td>16270b71732f94fd4a9bc2169f76cf94010d4e0bacbe1d...</td>\n",
       "    </tr>\n",
       "    <tr>\n",
       "      <th>2</th>\n",
       "      <td>QDt2eixQ-7E.mp4</td>\n",
       "      <td>/data/1/wesmediafowler/projects/AdMedia/Google...</td>\n",
       "      <td>2f5617ad11a6c8900a106261d9e56d5eb34c750c159312...</td>\n",
       "    </tr>\n",
       "    <tr>\n",
       "      <th>3</th>\n",
       "      <td>wAE3Adxg8z4.mp4</td>\n",
       "      <td>/data/1/wesmediafowler/projects/AdMedia/Google...</td>\n",
       "      <td>bc61eec68d979c23eacdee58c5df66a915c669d93283e8...</td>\n",
       "    </tr>\n",
       "    <tr>\n",
       "      <th>4</th>\n",
       "      <td>31E4r62s34c.mp4</td>\n",
       "      <td>/data/1/wesmediafowler/projects/AdMedia/Google...</td>\n",
       "      <td>d34b9f98fd5a1084181969b3ee61ebcd9f40bc79b2593f...</td>\n",
       "    </tr>\n",
       "  </tbody>\n",
       "</table>\n",
       "</div>"
      ],
      "text/plain": [
       "          filename                                           filepath  \\\n",
       "0  nIAa2wx0y2Q.mp4  /data/1/wesmediafowler/projects/AdMedia/Google...   \n",
       "1  ZL_4kcX7kIM.mp4  /data/1/wesmediafowler/projects/AdMedia/Google...   \n",
       "2  QDt2eixQ-7E.mp4  /data/1/wesmediafowler/projects/AdMedia/Google...   \n",
       "3  wAE3Adxg8z4.mp4  /data/1/wesmediafowler/projects/AdMedia/Google...   \n",
       "4  31E4r62s34c.mp4  /data/1/wesmediafowler/projects/AdMedia/Google...   \n",
       "\n",
       "                                     checksum_sha256  \n",
       "0  3eb256475d44d124d8d671b15460066e767a87efaea137...  \n",
       "1  16270b71732f94fd4a9bc2169f76cf94010d4e0bacbe1d...  \n",
       "2  2f5617ad11a6c8900a106261d9e56d5eb34c750c159312...  \n",
       "3  bc61eec68d979c23eacdee58c5df66a915c669d93283e8...  \n",
       "4  d34b9f98fd5a1084181969b3ee61ebcd9f40bc79b2593f...  "
      ]
     },
     "execution_count": 16,
     "metadata": {},
     "output_type": "execute_result"
    }
   ],
   "source": [
    "video.head()"
   ]
  },
  {
   "cell_type": "code",
   "execution_count": 18,
   "id": "aa09a93b",
   "metadata": {},
   "outputs": [],
   "source": [
    "video.to_csv(\"google2022_video_info.csv\", index=False)"
   ]
  }
 ],
 "metadata": {
  "kernelspec": {
   "display_name": "Python 3 (ipykernel)",
   "language": "python",
   "name": "python3"
  },
  "language_info": {
   "codemirror_mode": {
    "name": "ipython",
    "version": 3
   },
   "file_extension": ".py",
   "mimetype": "text/x-python",
   "name": "python",
   "nbconvert_exporter": "python",
   "pygments_lexer": "ipython3",
   "version": "3.11.6"
  }
 },
 "nbformat": 4,
 "nbformat_minor": 5
}
