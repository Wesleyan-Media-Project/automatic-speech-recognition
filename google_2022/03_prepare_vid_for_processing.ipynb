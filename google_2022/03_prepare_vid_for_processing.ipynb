{
 "cells": [
  {
   "cell_type": "code",
   "execution_count": 1,
   "id": "6a12c3d4",
   "metadata": {},
   "outputs": [],
   "source": [
    "import pandas as pd\n",
    "import subprocess\n",
    "from tqdm import tqdm"
   ]
  },
  {
   "cell_type": "markdown",
   "id": "eab72ee6",
   "metadata": {},
   "source": [
    "### Video"
   ]
  },
  {
   "cell_type": "code",
   "execution_count": 2,
   "id": "74a45006",
   "metadata": {},
   "outputs": [],
   "source": [
    "vid = pd.read_csv(\"google2022_video_info.csv\")"
   ]
  },
  {
   "cell_type": "code",
   "execution_count": 3,
   "id": "ce36d58d",
   "metadata": {},
   "outputs": [
    {
     "data": {
      "text/html": [
       "<div>\n",
       "<style scoped>\n",
       "    .dataframe tbody tr th:only-of-type {\n",
       "        vertical-align: middle;\n",
       "    }\n",
       "\n",
       "    .dataframe tbody tr th {\n",
       "        vertical-align: top;\n",
       "    }\n",
       "\n",
       "    .dataframe thead th {\n",
       "        text-align: right;\n",
       "    }\n",
       "</style>\n",
       "<table border=\"1\" class=\"dataframe\">\n",
       "  <thead>\n",
       "    <tr style=\"text-align: right;\">\n",
       "      <th></th>\n",
       "      <th>filename</th>\n",
       "      <th>filepath</th>\n",
       "      <th>checksum_sha256</th>\n",
       "    </tr>\n",
       "  </thead>\n",
       "  <tbody>\n",
       "    <tr>\n",
       "      <th>0</th>\n",
       "      <td>nIAa2wx0y2Q.mp4</td>\n",
       "      <td>/data/1/wesmediafowler/projects/AdMedia/Google...</td>\n",
       "      <td>3eb256475d44d124d8d671b15460066e767a87efaea137...</td>\n",
       "    </tr>\n",
       "    <tr>\n",
       "      <th>1</th>\n",
       "      <td>ZL_4kcX7kIM.mp4</td>\n",
       "      <td>/data/1/wesmediafowler/projects/AdMedia/Google...</td>\n",
       "      <td>16270b71732f94fd4a9bc2169f76cf94010d4e0bacbe1d...</td>\n",
       "    </tr>\n",
       "    <tr>\n",
       "      <th>2</th>\n",
       "      <td>QDt2eixQ-7E.mp4</td>\n",
       "      <td>/data/1/wesmediafowler/projects/AdMedia/Google...</td>\n",
       "      <td>2f5617ad11a6c8900a106261d9e56d5eb34c750c159312...</td>\n",
       "    </tr>\n",
       "    <tr>\n",
       "      <th>3</th>\n",
       "      <td>wAE3Adxg8z4.mp4</td>\n",
       "      <td>/data/1/wesmediafowler/projects/AdMedia/Google...</td>\n",
       "      <td>bc61eec68d979c23eacdee58c5df66a915c669d93283e8...</td>\n",
       "    </tr>\n",
       "    <tr>\n",
       "      <th>4</th>\n",
       "      <td>31E4r62s34c.mp4</td>\n",
       "      <td>/data/1/wesmediafowler/projects/AdMedia/Google...</td>\n",
       "      <td>d34b9f98fd5a1084181969b3ee61ebcd9f40bc79b2593f...</td>\n",
       "    </tr>\n",
       "  </tbody>\n",
       "</table>\n",
       "</div>"
      ],
      "text/plain": [
       "          filename                                           filepath  \\\n",
       "0  nIAa2wx0y2Q.mp4  /data/1/wesmediafowler/projects/AdMedia/Google...   \n",
       "1  ZL_4kcX7kIM.mp4  /data/1/wesmediafowler/projects/AdMedia/Google...   \n",
       "2  QDt2eixQ-7E.mp4  /data/1/wesmediafowler/projects/AdMedia/Google...   \n",
       "3  wAE3Adxg8z4.mp4  /data/1/wesmediafowler/projects/AdMedia/Google...   \n",
       "4  31E4r62s34c.mp4  /data/1/wesmediafowler/projects/AdMedia/Google...   \n",
       "\n",
       "                                     checksum_sha256  \n",
       "0  3eb256475d44d124d8d671b15460066e767a87efaea137...  \n",
       "1  16270b71732f94fd4a9bc2169f76cf94010d4e0bacbe1d...  \n",
       "2  2f5617ad11a6c8900a106261d9e56d5eb34c750c159312...  \n",
       "3  bc61eec68d979c23eacdee58c5df66a915c669d93283e8...  \n",
       "4  d34b9f98fd5a1084181969b3ee61ebcd9f40bc79b2593f...  "
      ]
     },
     "execution_count": 3,
     "metadata": {},
     "output_type": "execute_result"
    }
   ],
   "source": [
    "vid.head()"
   ]
  },
  {
   "cell_type": "code",
   "execution_count": 4,
   "id": "27add17e",
   "metadata": {},
   "outputs": [
    {
     "data": {
      "text/plain": [
       "(25932, 3)"
      ]
     },
     "execution_count": 4,
     "metadata": {},
     "output_type": "execute_result"
    }
   ],
   "source": [
    "vid.shape"
   ]
  },
  {
   "cell_type": "markdown",
   "id": "09d0a200",
   "metadata": {},
   "source": [
    "There is only one duplicate video. For convenience, we copy all videos to the ./data/mp4"
   ]
  },
  {
   "cell_type": "code",
   "execution_count": 5,
   "id": "37cca162",
   "metadata": {},
   "outputs": [
    {
     "data": {
      "text/html": [
       "<div>\n",
       "<style scoped>\n",
       "    .dataframe tbody tr th:only-of-type {\n",
       "        vertical-align: middle;\n",
       "    }\n",
       "\n",
       "    .dataframe tbody tr th {\n",
       "        vertical-align: top;\n",
       "    }\n",
       "\n",
       "    .dataframe thead th {\n",
       "        text-align: right;\n",
       "    }\n",
       "</style>\n",
       "<table border=\"1\" class=\"dataframe\">\n",
       "  <thead>\n",
       "    <tr style=\"text-align: right;\">\n",
       "      <th></th>\n",
       "      <th>filename</th>\n",
       "      <th>filepath</th>\n",
       "      <th>checksum_sha256</th>\n",
       "    </tr>\n",
       "  </thead>\n",
       "  <tbody>\n",
       "    <tr>\n",
       "      <th>8838</th>\n",
       "      <td>c4BdVaD2IhM.mp4</td>\n",
       "      <td>/data/1/wesmediafowler/projects/AdMedia/Google...</td>\n",
       "      <td>1efed8286640916debd33876bbf358043e0ade4938d2c4...</td>\n",
       "    </tr>\n",
       "    <tr>\n",
       "      <th>16155</th>\n",
       "      <td>OLrW4v7tdYU.mp4</td>\n",
       "      <td>/data/1/wesmediafowler/projects/AdMedia/Google...</td>\n",
       "      <td>1efed8286640916debd33876bbf358043e0ade4938d2c4...</td>\n",
       "    </tr>\n",
       "  </tbody>\n",
       "</table>\n",
       "</div>"
      ],
      "text/plain": [
       "              filename                                           filepath  \\\n",
       "8838   c4BdVaD2IhM.mp4  /data/1/wesmediafowler/projects/AdMedia/Google...   \n",
       "16155  OLrW4v7tdYU.mp4  /data/1/wesmediafowler/projects/AdMedia/Google...   \n",
       "\n",
       "                                         checksum_sha256  \n",
       "8838   1efed8286640916debd33876bbf358043e0ade4938d2c4...  \n",
       "16155  1efed8286640916debd33876bbf358043e0ade4938d2c4...  "
      ]
     },
     "execution_count": 5,
     "metadata": {},
     "output_type": "execute_result"
    }
   ],
   "source": [
    "vid.loc[vid.duplicated(subset =['checksum_sha256'], keep=False)]"
   ]
  },
  {
   "cell_type": "code",
   "execution_count": 6,
   "id": "440ef387",
   "metadata": {},
   "outputs": [
    {
     "data": {
      "text/plain": [
       "25931"
      ]
     },
     "execution_count": 6,
     "metadata": {},
     "output_type": "execute_result"
    }
   ],
   "source": [
    "len(vid['checksum_sha256'].unique())"
   ]
  },
  {
   "cell_type": "code",
   "execution_count": 7,
   "id": "6616e580",
   "metadata": {},
   "outputs": [
    {
     "data": {
      "text/plain": [
       "25932"
      ]
     },
     "execution_count": 7,
     "metadata": {},
     "output_type": "execute_result"
    }
   ],
   "source": [
    "len(vid['filename'].unique())"
   ]
  },
  {
   "cell_type": "code",
   "execution_count": 8,
   "id": "2b22adff",
   "metadata": {},
   "outputs": [
    {
     "data": {
      "text/plain": [
       "(25932, 3)"
      ]
     },
     "execution_count": 8,
     "metadata": {},
     "output_type": "execute_result"
    }
   ],
   "source": [
    "vid.shape"
   ]
  },
  {
   "cell_type": "markdown",
   "id": "6dc569b2",
   "metadata": {},
   "source": [
    "### Copy files to video processing folder"
   ]
  },
  {
   "cell_type": "code",
   "execution_count": 43,
   "id": "3c75615d",
   "metadata": {},
   "outputs": [
    {
     "name": "stderr",
     "output_type": "stream",
     "text": [
      "100%|█████████████████████████████████████| 25932/25932 [53:38<00:00,  8.06it/s]\n"
     ]
    }
   ],
   "source": [
    "# for i in tqdm(vid['filepath'][:]):\n",
    "#     cmd = \"cp \"+i+\" /home/jyao01/github/google_2022/data/mp4\"\n",
    "#     #print(cmd)\n",
    "#     subprocess.run(cmd, shell=True)"
   ]
  },
  {
   "cell_type": "markdown",
   "id": "1112047d",
   "metadata": {},
   "source": [
    "Load ad id associated with youtube video id"
   ]
  },
  {
   "cell_type": "markdown",
   "id": "35529fc0",
   "metadata": {},
   "source": [
    "Below is a query Pavel used for the export from MySQL on wesmedia1:\n",
    "\n",
    "-Note from pavel: \n",
    "I'm using a WHERE clause because there were some videos for which the youtube id came in empty:\\\n",
    "Google has removed the videos from the ads. \n",
    "And there is a small number of videos (about 100) that failed to download."
   ]
  },
  {
   "cell_type": "code",
   "execution_count": null,
   "id": "3f2fe538",
   "metadata": {},
   "outputs": [],
   "source": [
    "# select url, ad_id, youtube_id\n",
    "#       from ad_media.video_info where char_length(youtube_id) > 0;"
   ]
  },
  {
   "cell_type": "code",
   "execution_count": 40,
   "id": "e501b6f2",
   "metadata": {},
   "outputs": [],
   "source": [
    "wt = pd.read_csv(\"ad_id_and_youtube_id.csv\")"
   ]
  },
  {
   "cell_type": "code",
   "execution_count": 41,
   "id": "01014e6c",
   "metadata": {},
   "outputs": [
    {
     "data": {
      "text/plain": [
       "(66929, 3)"
      ]
     },
     "execution_count": 41,
     "metadata": {},
     "output_type": "execute_result"
    }
   ],
   "source": [
    "wt.shape"
   ]
  },
  {
   "cell_type": "code",
   "execution_count": 42,
   "id": "60722fb0",
   "metadata": {},
   "outputs": [],
   "source": [
    "wt = wt.drop_duplicates(keep='last')"
   ]
  },
  {
   "cell_type": "code",
   "execution_count": 43,
   "id": "e2060cfb",
   "metadata": {},
   "outputs": [],
   "source": [
    "wt = wt.rename(columns={'url':'ad_url'})"
   ]
  },
  {
   "cell_type": "code",
   "execution_count": 48,
   "id": "1ba49f70",
   "metadata": {},
   "outputs": [],
   "source": [
    "wt['filename']=[str(i)+'.mp4' for i in wt['youtube_id']]"
   ]
  },
  {
   "cell_type": "code",
   "execution_count": 52,
   "id": "d71fc8e5",
   "metadata": {},
   "outputs": [],
   "source": [
    "wt = wt[['ad_url', 'youtube_id', 'filename']]"
   ]
  },
  {
   "cell_type": "code",
   "execution_count": 53,
   "id": "366b109c",
   "metadata": {},
   "outputs": [
    {
     "data": {
      "text/html": [
       "<div>\n",
       "<style scoped>\n",
       "    .dataframe tbody tr th:only-of-type {\n",
       "        vertical-align: middle;\n",
       "    }\n",
       "\n",
       "    .dataframe tbody tr th {\n",
       "        vertical-align: top;\n",
       "    }\n",
       "\n",
       "    .dataframe thead th {\n",
       "        text-align: right;\n",
       "    }\n",
       "</style>\n",
       "<table border=\"1\" class=\"dataframe\">\n",
       "  <thead>\n",
       "    <tr style=\"text-align: right;\">\n",
       "      <th></th>\n",
       "      <th>ad_url</th>\n",
       "      <th>youtube_id</th>\n",
       "      <th>filename</th>\n",
       "    </tr>\n",
       "  </thead>\n",
       "  <tbody>\n",
       "    <tr>\n",
       "      <th>0</th>\n",
       "      <td>https://adstransparency.google.com/advertiser/...</td>\n",
       "      <td>eJ1ZsrdgNpA</td>\n",
       "      <td>eJ1ZsrdgNpA.mp4</td>\n",
       "    </tr>\n",
       "    <tr>\n",
       "      <th>1</th>\n",
       "      <td>https://adstransparency.google.com/advertiser/...</td>\n",
       "      <td>-MvD1AsFhSw</td>\n",
       "      <td>-MvD1AsFhSw.mp4</td>\n",
       "    </tr>\n",
       "  </tbody>\n",
       "</table>\n",
       "</div>"
      ],
      "text/plain": [
       "                                              ad_url   youtube_id  \\\n",
       "0  https://adstransparency.google.com/advertiser/...  eJ1ZsrdgNpA   \n",
       "1  https://adstransparency.google.com/advertiser/...  -MvD1AsFhSw   \n",
       "\n",
       "          filename  \n",
       "0  eJ1ZsrdgNpA.mp4  \n",
       "1  -MvD1AsFhSw.mp4  "
      ]
     },
     "execution_count": 53,
     "metadata": {},
     "output_type": "execute_result"
    }
   ],
   "source": [
    "wt.head(2)"
   ]
  },
  {
   "cell_type": "code",
   "execution_count": 51,
   "id": "7d8997bd",
   "metadata": {},
   "outputs": [
    {
     "data": {
      "text/plain": [
       "'https://adstransparency.google.com/advertiser/AR03129716555194040321/creative/CR00208584571334164481?political=&region=US'"
      ]
     },
     "execution_count": 51,
     "metadata": {},
     "output_type": "execute_result"
    }
   ],
   "source": [
    "wt.ad_url[0]"
   ]
  },
  {
   "cell_type": "code",
   "execution_count": 54,
   "id": "c369b188",
   "metadata": {},
   "outputs": [
    {
     "data": {
      "text/plain": [
       "65392"
      ]
     },
     "execution_count": 54,
     "metadata": {},
     "output_type": "execute_result"
    }
   ],
   "source": [
    "len(wt.ad_url.unique())"
   ]
  },
  {
   "cell_type": "code",
   "execution_count": 57,
   "id": "b98366ad",
   "metadata": {},
   "outputs": [
    {
     "data": {
      "text/plain": [
       "26341"
      ]
     },
     "execution_count": 57,
     "metadata": {},
     "output_type": "execute_result"
    }
   ],
   "source": [
    "len(wt.youtube_id.unique())"
   ]
  },
  {
   "cell_type": "code",
   "execution_count": 85,
   "id": "9fac1470",
   "metadata": {},
   "outputs": [
    {
     "data": {
      "text/html": [
       "<div>\n",
       "<style scoped>\n",
       "    .dataframe tbody tr th:only-of-type {\n",
       "        vertical-align: middle;\n",
       "    }\n",
       "\n",
       "    .dataframe tbody tr th {\n",
       "        vertical-align: top;\n",
       "    }\n",
       "\n",
       "    .dataframe thead th {\n",
       "        text-align: right;\n",
       "    }\n",
       "</style>\n",
       "<table border=\"1\" class=\"dataframe\">\n",
       "  <thead>\n",
       "    <tr style=\"text-align: right;\">\n",
       "      <th></th>\n",
       "      <th>ad_url</th>\n",
       "      <th>youtube_id</th>\n",
       "      <th>filename</th>\n",
       "    </tr>\n",
       "  </thead>\n",
       "  <tbody>\n",
       "  </tbody>\n",
       "</table>\n",
       "</div>"
      ],
      "text/plain": [
       "Empty DataFrame\n",
       "Columns: [ad_url, youtube_id, filename]\n",
       "Index: []"
      ]
     },
     "execution_count": 85,
     "metadata": {},
     "output_type": "execute_result"
    }
   ],
   "source": [
    "wt.loc[wt['ad_url']=='https://adstransparency.google.com/advertiser/AR07232495815728562177/creative/CR02029189116112928769?political=&region=US']"
   ]
  },
  {
   "cell_type": "markdown",
   "id": "fb53577c",
   "metadata": {},
   "source": [
    "### Get video master files for the entire election period"
   ]
  },
  {
   "cell_type": "markdown",
   "id": "5f7b5774",
   "metadata": {},
   "source": [
    "Big query used to get the master file for the entire election circle:"
   ]
  },
  {
   "cell_type": "code",
   "execution_count": 3,
   "id": "dfb8a2c1",
   "metadata": {},
   "outputs": [],
   "source": [
    "# SELECT ad_id, ad_url, ad_type, advertiser_id, advertiser_name, date_range_start, date_range_end\n",
    "# FROM `wmp-laura.g_ads_targeting.creative_stats_delta` \n",
    "# where date_range_start <= '2022-11-08'\n",
    "# and date_range_end > '2021-01-06'\n",
    "# and regions = 'US';"
   ]
  },
  {
   "cell_type": "code",
   "execution_count": 58,
   "id": "b2559f94",
   "metadata": {},
   "outputs": [],
   "source": [
    "d = pd.read_csv(\"../02_masterfiles/google2022_master_01062021_11082022_US.csv\")"
   ]
  },
  {
   "cell_type": "code",
   "execution_count": 59,
   "id": "0c246279",
   "metadata": {
    "scrolled": true
   },
   "outputs": [
    {
     "data": {
      "text/plain": [
       "(1994681, 7)"
      ]
     },
     "execution_count": 59,
     "metadata": {},
     "output_type": "execute_result"
    }
   ],
   "source": [
    "d.shape"
   ]
  },
  {
   "cell_type": "code",
   "execution_count": 60,
   "id": "b0e342f9",
   "metadata": {},
   "outputs": [
    {
     "data": {
      "text/html": [
       "<div>\n",
       "<style scoped>\n",
       "    .dataframe tbody tr th:only-of-type {\n",
       "        vertical-align: middle;\n",
       "    }\n",
       "\n",
       "    .dataframe tbody tr th {\n",
       "        vertical-align: top;\n",
       "    }\n",
       "\n",
       "    .dataframe thead th {\n",
       "        text-align: right;\n",
       "    }\n",
       "</style>\n",
       "<table border=\"1\" class=\"dataframe\">\n",
       "  <thead>\n",
       "    <tr style=\"text-align: right;\">\n",
       "      <th></th>\n",
       "      <th>ad_id</th>\n",
       "      <th>ad_url</th>\n",
       "      <th>ad_type</th>\n",
       "      <th>advertiser_id</th>\n",
       "      <th>advertiser_name</th>\n",
       "      <th>date_range_start</th>\n",
       "      <th>date_range_end</th>\n",
       "    </tr>\n",
       "  </thead>\n",
       "  <tbody>\n",
       "    <tr>\n",
       "      <th>0</th>\n",
       "      <td>CR03552817975411081217</td>\n",
       "      <td>https://adstransparency.google.com/advertiser/...</td>\n",
       "      <td>TEXT</td>\n",
       "      <td>AR00053674171938373633</td>\n",
       "      <td>MIKIE SHERRILL FOR CONGRESS</td>\n",
       "      <td>2021-12-28</td>\n",
       "      <td>2022-08-16</td>\n",
       "    </tr>\n",
       "    <tr>\n",
       "      <th>1</th>\n",
       "      <td>CR09555900636977954817</td>\n",
       "      <td>https://adstransparency.google.com/advertiser/...</td>\n",
       "      <td>TEXT</td>\n",
       "      <td>AR00053674171938373633</td>\n",
       "      <td>MIKIE SHERRILL FOR CONGRESS</td>\n",
       "      <td>2021-02-26</td>\n",
       "      <td>2022-08-15</td>\n",
       "    </tr>\n",
       "  </tbody>\n",
       "</table>\n",
       "</div>"
      ],
      "text/plain": [
       "                    ad_id                                             ad_url  \\\n",
       "0  CR03552817975411081217  https://adstransparency.google.com/advertiser/...   \n",
       "1  CR09555900636977954817  https://adstransparency.google.com/advertiser/...   \n",
       "\n",
       "  ad_type           advertiser_id              advertiser_name  \\\n",
       "0    TEXT  AR00053674171938373633  MIKIE SHERRILL FOR CONGRESS   \n",
       "1    TEXT  AR00053674171938373633  MIKIE SHERRILL FOR CONGRESS   \n",
       "\n",
       "  date_range_start date_range_end  \n",
       "0       2021-12-28     2022-08-16  \n",
       "1       2021-02-26     2022-08-15  "
      ]
     },
     "execution_count": 60,
     "metadata": {},
     "output_type": "execute_result"
    }
   ],
   "source": [
    "d.head(2)"
   ]
  },
  {
   "cell_type": "markdown",
   "id": "0cb279b2",
   "metadata": {},
   "source": [
    "Double check date range - entire election cycle"
   ]
  },
  {
   "cell_type": "code",
   "execution_count": 63,
   "id": "c5472e4f",
   "metadata": {},
   "outputs": [],
   "source": [
    "d['date_range_start'] = pd.to_datetime(d['date_range_start'])\n",
    "d['date_range_end'] = pd.to_datetime(d['date_range_end'])"
   ]
  },
  {
   "cell_type": "code",
   "execution_count": 65,
   "id": "7d0f7a5e",
   "metadata": {},
   "outputs": [
    {
     "name": "stdout",
     "output_type": "stream",
     "text": [
      "0\n",
      "0\n"
     ]
    }
   ],
   "source": [
    "print(d['date_range_start'].isna().sum())\n",
    "print(d['date_range_end'].isna().sum())"
   ]
  },
  {
   "cell_type": "code",
   "execution_count": 77,
   "id": "2b4ae20b",
   "metadata": {},
   "outputs": [],
   "source": [
    "df = d.loc[(d['date_range_end']> '2021-01-06')&(d['date_range_start']<='2022-11-08')]"
   ]
  },
  {
   "cell_type": "code",
   "execution_count": 78,
   "id": "3052de25",
   "metadata": {},
   "outputs": [
    {
     "data": {
      "text/plain": [
       "(1994681, 7)"
      ]
     },
     "execution_count": 78,
     "metadata": {},
     "output_type": "execute_result"
    }
   ],
   "source": [
    "df.shape"
   ]
  },
  {
   "cell_type": "code",
   "execution_count": 79,
   "id": "621b5c9c",
   "metadata": {},
   "outputs": [],
   "source": [
    "df = df.merge(wt, on='ad_url', how='left', indicator=True)"
   ]
  },
  {
   "cell_type": "code",
   "execution_count": 80,
   "id": "9f6b85fc",
   "metadata": {},
   "outputs": [
    {
     "data": {
      "text/plain": [
       "left_only     1294656\n",
       "both           700025\n",
       "right_only          0\n",
       "Name: _merge, dtype: int64"
      ]
     },
     "execution_count": 80,
     "metadata": {},
     "output_type": "execute_result"
    }
   ],
   "source": [
    "df._merge.value_counts(dropna=True)"
   ]
  },
  {
   "cell_type": "code",
   "execution_count": 87,
   "id": "a2255ce9",
   "metadata": {},
   "outputs": [
    {
     "data": {
      "text/plain": [
       "4189"
      ]
     },
     "execution_count": 87,
     "metadata": {},
     "output_type": "execute_result"
    }
   ],
   "source": [
    "# These youtube videos are removed by Google according to their ad policy\n",
    "len(df.loc[(df['_merge']=='left_only')&(df['ad_type']=='VIDEO'), 'ad_url'].unique())"
   ]
  },
  {
   "cell_type": "code",
   "execution_count": 89,
   "id": "9daad2c1",
   "metadata": {},
   "outputs": [
    {
     "data": {
      "text/plain": [
       "VIDEO    721823\n",
       "IMAGE    662326\n",
       "TEXT     610532\n",
       "Name: ad_type, dtype: int64"
      ]
     },
     "execution_count": 89,
     "metadata": {},
     "output_type": "execute_result"
    }
   ],
   "source": [
    "df.ad_type.value_counts()"
   ]
  },
  {
   "cell_type": "code",
   "execution_count": 72,
   "id": "205c7c7d",
   "metadata": {},
   "outputs": [],
   "source": [
    "df = df.loc[df['_merge']=='both']"
   ]
  },
  {
   "cell_type": "code",
   "execution_count": 73,
   "id": "bcc90ee3",
   "metadata": {},
   "outputs": [
    {
     "data": {
      "text/html": [
       "<div>\n",
       "<style scoped>\n",
       "    .dataframe tbody tr th:only-of-type {\n",
       "        vertical-align: middle;\n",
       "    }\n",
       "\n",
       "    .dataframe tbody tr th {\n",
       "        vertical-align: top;\n",
       "    }\n",
       "\n",
       "    .dataframe thead th {\n",
       "        text-align: right;\n",
       "    }\n",
       "</style>\n",
       "<table border=\"1\" class=\"dataframe\">\n",
       "  <thead>\n",
       "    <tr style=\"text-align: right;\">\n",
       "      <th></th>\n",
       "      <th>ad_id</th>\n",
       "      <th>ad_url</th>\n",
       "      <th>ad_type</th>\n",
       "      <th>advertiser_id</th>\n",
       "      <th>advertiser_name</th>\n",
       "      <th>date_range_start</th>\n",
       "      <th>date_range_end</th>\n",
       "      <th>youtube_id</th>\n",
       "      <th>filename</th>\n",
       "      <th>_merge</th>\n",
       "    </tr>\n",
       "  </thead>\n",
       "  <tbody>\n",
       "    <tr>\n",
       "      <th>23</th>\n",
       "      <td>CR15407070580163215361</td>\n",
       "      <td>https://adstransparency.google.com/advertiser/...</td>\n",
       "      <td>VIDEO</td>\n",
       "      <td>AR00340999924898332673</td>\n",
       "      <td>DSCC</td>\n",
       "      <td>2022-08-17</td>\n",
       "      <td>2022-08-18</td>\n",
       "      <td>tZSerBklHiI</td>\n",
       "      <td>tZSerBklHiI.mp4</td>\n",
       "      <td>both</td>\n",
       "    </tr>\n",
       "    <tr>\n",
       "      <th>24</th>\n",
       "      <td>CR17292530711659544577</td>\n",
       "      <td>https://adstransparency.google.com/advertiser/...</td>\n",
       "      <td>VIDEO</td>\n",
       "      <td>AR00340999924898332673</td>\n",
       "      <td>DSCC</td>\n",
       "      <td>2022-08-17</td>\n",
       "      <td>2022-08-18</td>\n",
       "      <td>sG2fOx3sexY</td>\n",
       "      <td>sG2fOx3sexY.mp4</td>\n",
       "      <td>both</td>\n",
       "    </tr>\n",
       "    <tr>\n",
       "      <th>31</th>\n",
       "      <td>CR01903813591904026625</td>\n",
       "      <td>https://adstransparency.google.com/advertiser/...</td>\n",
       "      <td>VIDEO</td>\n",
       "      <td>AR00536403756997148673</td>\n",
       "      <td>Fetterman for PA</td>\n",
       "      <td>2022-04-06</td>\n",
       "      <td>2022-05-17</td>\n",
       "      <td>jb_0Sdmvcf8</td>\n",
       "      <td>jb_0Sdmvcf8.mp4</td>\n",
       "      <td>both</td>\n",
       "    </tr>\n",
       "    <tr>\n",
       "      <th>32</th>\n",
       "      <td>CR02034014048013516801</td>\n",
       "      <td>https://adstransparency.google.com/advertiser/...</td>\n",
       "      <td>VIDEO</td>\n",
       "      <td>AR00536403756997148673</td>\n",
       "      <td>Fetterman for PA</td>\n",
       "      <td>2021-03-26</td>\n",
       "      <td>2021-03-29</td>\n",
       "      <td>EePtYDYfnGE</td>\n",
       "      <td>EePtYDYfnGE.mp4</td>\n",
       "      <td>both</td>\n",
       "    </tr>\n",
       "    <tr>\n",
       "      <th>35</th>\n",
       "      <td>CR03666994836252131329</td>\n",
       "      <td>https://adstransparency.google.com/advertiser/...</td>\n",
       "      <td>VIDEO</td>\n",
       "      <td>AR00536403756997148673</td>\n",
       "      <td>Fetterman for PA</td>\n",
       "      <td>2021-09-21</td>\n",
       "      <td>2021-09-22</td>\n",
       "      <td>FXnkLvHQmkg</td>\n",
       "      <td>FXnkLvHQmkg.mp4</td>\n",
       "      <td>both</td>\n",
       "    </tr>\n",
       "  </tbody>\n",
       "</table>\n",
       "</div>"
      ],
      "text/plain": [
       "                     ad_id                                             ad_url  \\\n",
       "23  CR15407070580163215361  https://adstransparency.google.com/advertiser/...   \n",
       "24  CR17292530711659544577  https://adstransparency.google.com/advertiser/...   \n",
       "31  CR01903813591904026625  https://adstransparency.google.com/advertiser/...   \n",
       "32  CR02034014048013516801  https://adstransparency.google.com/advertiser/...   \n",
       "35  CR03666994836252131329  https://adstransparency.google.com/advertiser/...   \n",
       "\n",
       "   ad_type           advertiser_id   advertiser_name date_range_start  \\\n",
       "23   VIDEO  AR00340999924898332673              DSCC       2022-08-17   \n",
       "24   VIDEO  AR00340999924898332673              DSCC       2022-08-17   \n",
       "31   VIDEO  AR00536403756997148673  Fetterman for PA       2022-04-06   \n",
       "32   VIDEO  AR00536403756997148673  Fetterman for PA       2021-03-26   \n",
       "35   VIDEO  AR00536403756997148673  Fetterman for PA       2021-09-21   \n",
       "\n",
       "   date_range_end   youtube_id         filename _merge  \n",
       "23     2022-08-18  tZSerBklHiI  tZSerBklHiI.mp4   both  \n",
       "24     2022-08-18  sG2fOx3sexY  sG2fOx3sexY.mp4   both  \n",
       "31     2022-05-17  jb_0Sdmvcf8  jb_0Sdmvcf8.mp4   both  \n",
       "32     2021-03-29  EePtYDYfnGE  EePtYDYfnGE.mp4   both  \n",
       "35     2021-09-22  FXnkLvHQmkg  FXnkLvHQmkg.mp4   both  "
      ]
     },
     "execution_count": 73,
     "metadata": {},
     "output_type": "execute_result"
    }
   ],
   "source": [
    "df.head()"
   ]
  },
  {
   "cell_type": "code",
   "execution_count": 75,
   "id": "983e5d42",
   "metadata": {},
   "outputs": [
    {
     "data": {
      "text/plain": [
       "62299"
      ]
     },
     "execution_count": 75,
     "metadata": {},
     "output_type": "execute_result"
    }
   ],
   "source": [
    "len(df['ad_url'].unique())"
   ]
  },
  {
   "cell_type": "code",
   "execution_count": 76,
   "id": "8d74af04",
   "metadata": {},
   "outputs": [
    {
     "data": {
      "text/plain": [
       "25203"
      ]
     },
     "execution_count": 76,
     "metadata": {},
     "output_type": "execute_result"
    }
   ],
   "source": [
    "len(df['filename'].unique())"
   ]
  },
  {
   "cell_type": "code",
   "execution_count": 91,
   "id": "89a87ade",
   "metadata": {},
   "outputs": [
    {
     "data": {
      "text/plain": [
       "'No digits: 0000, 1 digit: 0007, 2: 0042, 3: 1514'"
      ]
     },
     "execution_count": 91,
     "metadata": {},
     "output_type": "execute_result"
    }
   ],
   "source": [
    "'No digits: {:04d}, 1 digit: {:04d}, 2: {:04d}, 3: {:04d}'.format(0, 7, 42, 1514)"
   ]
  },
  {
   "cell_type": "code",
   "execution_count": null,
   "id": "6dae3ae5",
   "metadata": {},
   "outputs": [],
   "source": []
  }
 ],
 "metadata": {
  "kernelspec": {
   "display_name": "Python 3 (ipykernel)",
   "language": "python",
   "name": "python3"
  },
  "language_info": {
   "codemirror_mode": {
    "name": "ipython",
    "version": 3
   },
   "file_extension": ".py",
   "mimetype": "text/x-python",
   "name": "python",
   "nbconvert_exporter": "python",
   "pygments_lexer": "ipython3",
   "version": "3.9.12"
  }
 },
 "nbformat": 4,
 "nbformat_minor": 5
}
