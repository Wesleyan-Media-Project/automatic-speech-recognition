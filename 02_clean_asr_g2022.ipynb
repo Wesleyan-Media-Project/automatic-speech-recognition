{
 "cells": [
  {
   "cell_type": "code",
   "execution_count": 1,
   "id": "f186fa96",
   "metadata": {},
   "outputs": [],
   "source": [
    "import pandas as pd"
   ]
  },
  {
   "cell_type": "markdown",
   "id": "c9d601f2",
   "metadata": {},
   "source": [
    "### Load all video files for google 2022"
   ]
  },
  {
   "cell_type": "code",
   "execution_count": 2,
   "id": "74a45006",
   "metadata": {},
   "outputs": [],
   "source": [
    "vid = pd.read_csv(\"../01_prepare_ad_media/google2022_video_info.csv\")"
   ]
  },
  {
   "cell_type": "code",
   "execution_count": 3,
   "id": "ce36d58d",
   "metadata": {},
   "outputs": [
    {
     "data": {
      "text/html": [
       "<div>\n",
       "<style scoped>\n",
       "    .dataframe tbody tr th:only-of-type {\n",
       "        vertical-align: middle;\n",
       "    }\n",
       "\n",
       "    .dataframe tbody tr th {\n",
       "        vertical-align: top;\n",
       "    }\n",
       "\n",
       "    .dataframe thead th {\n",
       "        text-align: right;\n",
       "    }\n",
       "</style>\n",
       "<table border=\"1\" class=\"dataframe\">\n",
       "  <thead>\n",
       "    <tr style=\"text-align: right;\">\n",
       "      <th></th>\n",
       "      <th>filename</th>\n",
       "      <th>filepath</th>\n",
       "      <th>checksum_sha256</th>\n",
       "    </tr>\n",
       "  </thead>\n",
       "  <tbody>\n",
       "    <tr>\n",
       "      <th>0</th>\n",
       "      <td>nIAa2wx0y2Q.mp4</td>\n",
       "      <td>/data/1/wesmediafowler/projects/AdMedia/Google...</td>\n",
       "      <td>3eb256475d44d124d8d671b15460066e767a87efaea137...</td>\n",
       "    </tr>\n",
       "    <tr>\n",
       "      <th>1</th>\n",
       "      <td>ZL_4kcX7kIM.mp4</td>\n",
       "      <td>/data/1/wesmediafowler/projects/AdMedia/Google...</td>\n",
       "      <td>16270b71732f94fd4a9bc2169f76cf94010d4e0bacbe1d...</td>\n",
       "    </tr>\n",
       "    <tr>\n",
       "      <th>2</th>\n",
       "      <td>QDt2eixQ-7E.mp4</td>\n",
       "      <td>/data/1/wesmediafowler/projects/AdMedia/Google...</td>\n",
       "      <td>2f5617ad11a6c8900a106261d9e56d5eb34c750c159312...</td>\n",
       "    </tr>\n",
       "    <tr>\n",
       "      <th>3</th>\n",
       "      <td>wAE3Adxg8z4.mp4</td>\n",
       "      <td>/data/1/wesmediafowler/projects/AdMedia/Google...</td>\n",
       "      <td>bc61eec68d979c23eacdee58c5df66a915c669d93283e8...</td>\n",
       "    </tr>\n",
       "    <tr>\n",
       "      <th>4</th>\n",
       "      <td>31E4r62s34c.mp4</td>\n",
       "      <td>/data/1/wesmediafowler/projects/AdMedia/Google...</td>\n",
       "      <td>d34b9f98fd5a1084181969b3ee61ebcd9f40bc79b2593f...</td>\n",
       "    </tr>\n",
       "  </tbody>\n",
       "</table>\n",
       "</div>"
      ],
      "text/plain": [
       "          filename                                           filepath  \\\n",
       "0  nIAa2wx0y2Q.mp4  /data/1/wesmediafowler/projects/AdMedia/Google...   \n",
       "1  ZL_4kcX7kIM.mp4  /data/1/wesmediafowler/projects/AdMedia/Google...   \n",
       "2  QDt2eixQ-7E.mp4  /data/1/wesmediafowler/projects/AdMedia/Google...   \n",
       "3  wAE3Adxg8z4.mp4  /data/1/wesmediafowler/projects/AdMedia/Google...   \n",
       "4  31E4r62s34c.mp4  /data/1/wesmediafowler/projects/AdMedia/Google...   \n",
       "\n",
       "                                     checksum_sha256  \n",
       "0  3eb256475d44d124d8d671b15460066e767a87efaea137...  \n",
       "1  16270b71732f94fd4a9bc2169f76cf94010d4e0bacbe1d...  \n",
       "2  2f5617ad11a6c8900a106261d9e56d5eb34c750c159312...  \n",
       "3  bc61eec68d979c23eacdee58c5df66a915c669d93283e8...  \n",
       "4  d34b9f98fd5a1084181969b3ee61ebcd9f40bc79b2593f...  "
      ]
     },
     "execution_count": 3,
     "metadata": {},
     "output_type": "execute_result"
    }
   ],
   "source": [
    "vid.head()"
   ]
  },
  {
   "cell_type": "code",
   "execution_count": 4,
   "id": "27add17e",
   "metadata": {},
   "outputs": [
    {
     "data": {
      "text/plain": [
       "(25932, 3)"
      ]
     },
     "execution_count": 4,
     "metadata": {},
     "output_type": "execute_result"
    }
   ],
   "source": [
    "vid.shape"
   ]
  },
  {
   "cell_type": "markdown",
   "id": "09d0a200",
   "metadata": {},
   "source": [
    "There is only one duplicate video. For convenience, we we copy all videos to the ./data/mp4"
   ]
  },
  {
   "cell_type": "code",
   "execution_count": 5,
   "id": "37cca162",
   "metadata": {},
   "outputs": [
    {
     "data": {
      "text/html": [
       "<div>\n",
       "<style scoped>\n",
       "    .dataframe tbody tr th:only-of-type {\n",
       "        vertical-align: middle;\n",
       "    }\n",
       "\n",
       "    .dataframe tbody tr th {\n",
       "        vertical-align: top;\n",
       "    }\n",
       "\n",
       "    .dataframe thead th {\n",
       "        text-align: right;\n",
       "    }\n",
       "</style>\n",
       "<table border=\"1\" class=\"dataframe\">\n",
       "  <thead>\n",
       "    <tr style=\"text-align: right;\">\n",
       "      <th></th>\n",
       "      <th>filename</th>\n",
       "      <th>filepath</th>\n",
       "      <th>checksum_sha256</th>\n",
       "    </tr>\n",
       "  </thead>\n",
       "  <tbody>\n",
       "    <tr>\n",
       "      <th>8838</th>\n",
       "      <td>c4BdVaD2IhM.mp4</td>\n",
       "      <td>/data/1/wesmediafowler/projects/AdMedia/Google...</td>\n",
       "      <td>1efed8286640916debd33876bbf358043e0ade4938d2c4...</td>\n",
       "    </tr>\n",
       "    <tr>\n",
       "      <th>16155</th>\n",
       "      <td>OLrW4v7tdYU.mp4</td>\n",
       "      <td>/data/1/wesmediafowler/projects/AdMedia/Google...</td>\n",
       "      <td>1efed8286640916debd33876bbf358043e0ade4938d2c4...</td>\n",
       "    </tr>\n",
       "  </tbody>\n",
       "</table>\n",
       "</div>"
      ],
      "text/plain": [
       "              filename                                           filepath  \\\n",
       "8838   c4BdVaD2IhM.mp4  /data/1/wesmediafowler/projects/AdMedia/Google...   \n",
       "16155  OLrW4v7tdYU.mp4  /data/1/wesmediafowler/projects/AdMedia/Google...   \n",
       "\n",
       "                                         checksum_sha256  \n",
       "8838   1efed8286640916debd33876bbf358043e0ade4938d2c4...  \n",
       "16155  1efed8286640916debd33876bbf358043e0ade4938d2c4...  "
      ]
     },
     "execution_count": 5,
     "metadata": {},
     "output_type": "execute_result"
    }
   ],
   "source": [
    "vid.loc[vid.duplicated(subset =['checksum_sha256'], keep=False)]"
   ]
  },
  {
   "cell_type": "code",
   "execution_count": 6,
   "id": "440ef387",
   "metadata": {},
   "outputs": [
    {
     "data": {
      "text/plain": [
       "25931"
      ]
     },
     "execution_count": 6,
     "metadata": {},
     "output_type": "execute_result"
    }
   ],
   "source": [
    "len(vid['checksum_sha256'].unique())"
   ]
  },
  {
   "cell_type": "code",
   "execution_count": 7,
   "id": "493afbf3",
   "metadata": {},
   "outputs": [
    {
     "data": {
      "text/plain": [
       "25932"
      ]
     },
     "execution_count": 7,
     "metadata": {},
     "output_type": "execute_result"
    }
   ],
   "source": [
    "len(vid['filename'].unique())"
   ]
  },
  {
   "cell_type": "markdown",
   "id": "bd628e5d",
   "metadata": {},
   "source": [
    "### Load raw results"
   ]
  },
  {
   "cell_type": "code",
   "execution_count": 2,
   "id": "ac65d931",
   "metadata": {},
   "outputs": [],
   "source": [
    "raw = pd.read_csv(\"result_asr_g2022_raw.csv\")"
   ]
  },
  {
   "cell_type": "code",
   "execution_count": 3,
   "id": "95392feb",
   "metadata": {},
   "outputs": [
    {
     "data": {
      "text/plain": [
       "(3, 3)"
      ]
     },
     "execution_count": 3,
     "metadata": {},
     "output_type": "execute_result"
    }
   ],
   "source": [
    "raw.shape"
   ]
  },
  {
   "cell_type": "code",
   "execution_count": 4,
   "id": "fa8960e9",
   "metadata": {},
   "outputs": [],
   "source": [
    "# Don't use .replace('_c', '') as it will mess up file names\n",
    "raw['filename']=[str(i)[:-2]+'.mp4' for i in raw['filename']]"
   ]
  },
  {
   "cell_type": "code",
   "execution_count": 5,
   "id": "081e55a5",
   "metadata": {},
   "outputs": [
    {
     "data": {
      "text/html": [
       "<div>\n",
       "<style scoped>\n",
       "    .dataframe tbody tr th:only-of-type {\n",
       "        vertical-align: middle;\n",
       "    }\n",
       "\n",
       "    .dataframe tbody tr th {\n",
       "        vertical-align: top;\n",
       "    }\n",
       "\n",
       "    .dataframe thead th {\n",
       "        text-align: right;\n",
       "    }\n",
       "</style>\n",
       "<table border=\"1\" class=\"dataframe\">\n",
       "  <thead>\n",
       "    <tr style=\"text-align: right;\">\n",
       "      <th></th>\n",
       "      <th>filename</th>\n",
       "      <th>google_asr_text</th>\n",
       "      <th>stt_confidence</th>\n",
       "    </tr>\n",
       "  </thead>\n",
       "  <tbody>\n",
       "    <tr>\n",
       "      <th>0</th>\n",
       "      <td>zFUv78n9yDA.mp4</td>\n",
       "      <td>Today we're making posole this crazy Max had n...</td>\n",
       "      <td>0.912839</td>\n",
       "    </tr>\n",
       "    <tr>\n",
       "      <th>1</th>\n",
       "      <td>YX0LgKik3kI.mp4</td>\n",
       "      <td>Vote for me Steve Fox. I did improve our child...</td>\n",
       "      <td>0.816703</td>\n",
       "    </tr>\n",
       "  </tbody>\n",
       "</table>\n",
       "</div>"
      ],
      "text/plain": [
       "          filename                                    google_asr_text  \\\n",
       "0  zFUv78n9yDA.mp4  Today we're making posole this crazy Max had n...   \n",
       "1  YX0LgKik3kI.mp4  Vote for me Steve Fox. I did improve our child...   \n",
       "\n",
       "   stt_confidence  \n",
       "0        0.912839  \n",
       "1        0.816703  "
      ]
     },
     "execution_count": 5,
     "metadata": {},
     "output_type": "execute_result"
    }
   ],
   "source": [
    "raw.head(2)"
   ]
  },
  {
   "cell_type": "code",
   "execution_count": 6,
   "id": "f67269fd",
   "metadata": {},
   "outputs": [
    {
     "ename": "NameError",
     "evalue": "name 'vid' is not defined",
     "output_type": "error",
     "traceback": [
      "\u001b[0;31m---------------------------------------------------------------------------\u001b[0m",
      "\u001b[0;31mNameError\u001b[0m                                 Traceback (most recent call last)",
      "Cell \u001b[0;32mIn[6], line 1\u001b[0m\n\u001b[0;32m----> 1\u001b[0m vid \u001b[38;5;241m=\u001b[39m \u001b[43mvid\u001b[49m\u001b[38;5;241m.\u001b[39mmerge(raw, on\u001b[38;5;241m=\u001b[39m\u001b[38;5;124m'\u001b[39m\u001b[38;5;124mfilename\u001b[39m\u001b[38;5;124m'\u001b[39m, how\u001b[38;5;241m=\u001b[39m\u001b[38;5;124m'\u001b[39m\u001b[38;5;124mleft\u001b[39m\u001b[38;5;124m'\u001b[39m)\n",
      "\u001b[0;31mNameError\u001b[0m: name 'vid' is not defined"
     ]
    }
   ],
   "source": [
    "vid = vid.merge(raw, on='filename', how='left')"
   ]
  },
  {
   "cell_type": "code",
   "execution_count": 16,
   "id": "bfadc45a",
   "metadata": {},
   "outputs": [
    {
     "data": {
      "text/plain": [
       "1026"
      ]
     },
     "execution_count": 16,
     "metadata": {},
     "output_type": "execute_result"
    }
   ],
   "source": [
    "vid['google_asr_text'].isna().sum()"
   ]
  },
  {
   "cell_type": "code",
   "execution_count": 17,
   "id": "3425c410",
   "metadata": {},
   "outputs": [
    {
     "data": {
      "text/plain": [
       "(377, 5)"
      ]
     },
     "execution_count": 17,
     "metadata": {},
     "output_type": "execute_result"
    }
   ],
   "source": [
    "vid.loc[vid['google_asr_text']==' '].shape"
   ]
  },
  {
   "cell_type": "code",
   "execution_count": 18,
   "id": "a4c392df",
   "metadata": {},
   "outputs": [],
   "source": [
    "vid['google_asr_status']='success'"
   ]
  },
  {
   "cell_type": "code",
   "execution_count": 19,
   "id": "cb339392",
   "metadata": {},
   "outputs": [],
   "source": [
    "vid.loc[vid['google_asr_text'].isna(), 'google_asr_status']='success_no_sound'\n",
    "vid.loc[vid['google_asr_text']==' ', 'google_asr_status']='success_bgm'"
   ]
  },
  {
   "cell_type": "code",
   "execution_count": 20,
   "id": "7fb46af8",
   "metadata": {},
   "outputs": [
    {
     "data": {
      "text/plain": [
       "success             24529\n",
       "success_no_sound     1026\n",
       "success_bgm           377\n",
       "Name: google_asr_status, dtype: int64"
      ]
     },
     "execution_count": 20,
     "metadata": {},
     "output_type": "execute_result"
    }
   ],
   "source": [
    "vid.google_asr_status.value_counts(dropna=False)"
   ]
  },
  {
   "cell_type": "code",
   "execution_count": 22,
   "id": "8d5d2677",
   "metadata": {},
   "outputs": [],
   "source": [
    "vid['google_asr_model']='video_native'"
   ]
  },
  {
   "cell_type": "code",
   "execution_count": 25,
   "id": "db3201f2",
   "metadata": {},
   "outputs": [],
   "source": [
    "vid=vid.rename(columns={'stt_confidence':'google_asr_confidence'})"
   ]
  },
  {
   "cell_type": "code",
   "execution_count": 27,
   "id": "04299354",
   "metadata": {},
   "outputs": [],
   "source": [
    "del vid['filepath']"
   ]
  },
  {
   "cell_type": "code",
   "execution_count": 28,
   "id": "91f16867",
   "metadata": {},
   "outputs": [
    {
     "data": {
      "text/html": [
       "<div>\n",
       "<style scoped>\n",
       "    .dataframe tbody tr th:only-of-type {\n",
       "        vertical-align: middle;\n",
       "    }\n",
       "\n",
       "    .dataframe tbody tr th {\n",
       "        vertical-align: top;\n",
       "    }\n",
       "\n",
       "    .dataframe thead th {\n",
       "        text-align: right;\n",
       "    }\n",
       "</style>\n",
       "<table border=\"1\" class=\"dataframe\">\n",
       "  <thead>\n",
       "    <tr style=\"text-align: right;\">\n",
       "      <th></th>\n",
       "      <th>filename</th>\n",
       "      <th>checksum_sha256</th>\n",
       "      <th>google_asr_text</th>\n",
       "      <th>google_asr_confidence</th>\n",
       "      <th>google_asr_status</th>\n",
       "      <th>google_asr_model</th>\n",
       "    </tr>\n",
       "  </thead>\n",
       "  <tbody>\n",
       "    <tr>\n",
       "      <th>0</th>\n",
       "      <td>nIAa2wx0y2Q.mp4</td>\n",
       "      <td>3eb256475d44d124d8d671b15460066e767a87efaea137...</td>\n",
       "      <td>There's a difference between playing politics ...</td>\n",
       "      <td>0.804526</td>\n",
       "      <td>success</td>\n",
       "      <td>video_native</td>\n",
       "    </tr>\n",
       "    <tr>\n",
       "      <th>1</th>\n",
       "      <td>ZL_4kcX7kIM.mp4</td>\n",
       "      <td>16270b71732f94fd4a9bc2169f76cf94010d4e0bacbe1d...</td>\n",
       "      <td></td>\n",
       "      <td>0.000000</td>\n",
       "      <td>success_bgm</td>\n",
       "      <td>video_native</td>\n",
       "    </tr>\n",
       "  </tbody>\n",
       "</table>\n",
       "</div>"
      ],
      "text/plain": [
       "          filename                                    checksum_sha256  \\\n",
       "0  nIAa2wx0y2Q.mp4  3eb256475d44d124d8d671b15460066e767a87efaea137...   \n",
       "1  ZL_4kcX7kIM.mp4  16270b71732f94fd4a9bc2169f76cf94010d4e0bacbe1d...   \n",
       "\n",
       "                                     google_asr_text  google_asr_confidence  \\\n",
       "0  There's a difference between playing politics ...               0.804526   \n",
       "1                                                                  0.000000   \n",
       "\n",
       "  google_asr_status google_asr_model  \n",
       "0           success     video_native  \n",
       "1       success_bgm     video_native  "
      ]
     },
     "execution_count": 28,
     "metadata": {},
     "output_type": "execute_result"
    }
   ],
   "source": [
    "vid.head(2)"
   ]
  },
  {
   "cell_type": "code",
   "execution_count": 29,
   "id": "90049eca",
   "metadata": {},
   "outputs": [],
   "source": [
    "vid.to_csv(\"result_asr_g2022.csv\", index=False)"
   ]
  },
  {
   "cell_type": "code",
   "execution_count": null,
   "id": "0948ea08",
   "metadata": {},
   "outputs": [],
   "source": []
  }
 ],
 "metadata": {
  "kernelspec": {
   "display_name": "Python 3 (ipykernel)",
   "language": "python",
   "name": "python3"
  },
  "language_info": {
   "codemirror_mode": {
    "name": "ipython",
    "version": 3
   },
   "file_extension": ".py",
   "mimetype": "text/x-python",
   "name": "python",
   "nbconvert_exporter": "python",
   "pygments_lexer": "ipython3",
   "version": "3.11.6"
  }
 },
 "nbformat": 4,
 "nbformat_minor": 5
}
